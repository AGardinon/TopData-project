{
 "cells": [
  {
   "cell_type": "markdown",
   "metadata": {},
   "source": [
    "# 1. Protein binding set"
   ]
  },
  {
   "cell_type": "markdown",
   "metadata": {},
   "source": [
    "In the original paper [Kovacev-Nikolic2015](https://arxiv.org/abs/1412.1394), the authors focus on the closed and open forms of the maltose-binding protein (MBP), a bio-molecule containing $370$ amino-acid residues. The main function of this protein is to bind and transport sugar molecules across the cell lipid membranes; sugar molecules, that are used as an energy fuel.\n",
    "In order to perform its biological function the MBP changes structures, opening and closing a *pokcet* to accomodete the host molecule; these changes are usually influeced by the type of *host* structure.\n",
    "<img src=\"imgs/MBP.png\" width=\"500px\" align=\"center\" alt=\"aux\">"
   ]
  },
  {
   "cell_type": "markdown",
   "metadata": {},
   "source": [
    "The figure (taken from the original paper) shows two examples of conformal structures closed **1MPD**, ligand-bound (*holo*), and open **1OMP**, ligand-free (*apo*).\n",
    "In the original work the authors analyzed 14 total structures, 7 for the open and 7 for the closed configuration, obtained from X-ray crystallography (and avaliable in the Protein Data Bank).\n",
    "The bound of a host ligand can happen in both opened and closed structures, with the difference that when the structure it is closed it always has bounded a ligand.\n",
    "The closed conformation results also energetically more stable than the open one."
   ]
  },
  {
   "cell_type": "markdown",
   "metadata": {},
   "source": [
    "## Motivation"
   ]
  },
  {
   "cell_type": "markdown",
   "metadata": {},
   "source": [
    "Notably, of all the $370$ total residues only a small fraction are actively involved in the binding process.\n",
    "These residues are referred as *active sites*.\n",
    "Identifying active sites for biological functions in a big macro-molecule it is not a strigthforward task, to this end the authors decided to use an approach based on topological/statistical methods."
   ]
  },
  {
   "cell_type": "markdown",
   "metadata": {},
   "source": [
    "## Dynamical distances"
   ]
  },
  {
   "cell_type": "markdown",
   "metadata": {},
   "source": [
    "The direct use of the Cartesian $\\mathbb R^3$ coordinates that comes from the X-ray representation proved to be inefficient in distinguishing between the closed and open MBP conformation.\n",
    "The authors argued that the conformational structures that come from the X-ray calculations give only a frozen snapshot of the protein structure, while in reality the protein shape is elusive, time dependent and wobbly, becouse of the non covalent interactions between the residues that defined the overall secondary structure."
   ]
  },
  {
   "cell_type": "markdown",
   "metadata": {},
   "source": [
    "From the crystallographic data, a more dynamic description of the structure can be considere by building an *elastic network model*; the protein is basically modeled like a dynamical system of beads (representing set of atoms) and elastic springs.\n",
    "An energy state of such molecualr description becomes a superposition of *normal mode* of oscillation, leading to different spatial conformation depending on the deformation energy."
   ]
  },
  {
   "cell_type": "markdown",
   "metadata": {},
   "source": [
    "In order to study the different structures the authors took into account the first twenty non trivial modes of oscillation.\n",
    "Then, the dynamical description can be encoded into a *cross-correlation* matrix $\\mathbf{C}$ or the associated *dynamical distance* matrix $\\mathbf{D}$, that are linearly related as\n",
    "\n",
    "\\begin{equation}\n",
    "D_{ij} = 1 - \\lvert C_{ij} \\rvert\n",
    "\\end{equation}"
   ]
  },
  {
   "cell_type": "markdown",
   "metadata": {},
   "source": [
    "This defines a metric space in which highly (anti)correlated residues lie close to each other."
   ]
  },
  {
   "cell_type": "markdown",
   "metadata": {},
   "source": [
    "#### *Normal mode* \n",
    "The normal mode of an oscillating system is a pattern of motion in which all parts of the system move sinusoidally with the same (and fixed) frequency and with a fixed phase relation.\n",
    "These fixed frequencies of the normal modes of a system are known as its *natural frequencies* or *resonant frequencies*.\n",
    "A generic molecule has a set of normal modes and their natural frequencies that depend on its structure (atoms and their connections, bonds)"
   ]
  },
  {
   "cell_type": "markdown",
   "metadata": {},
   "source": [
    "### Notes\n",
    "All the contents here was summarized from the original paper [Kovacev-Nikolic2015](https://arxiv.org/abs/1412.1394).\n",
    "Correlation matrices between residues can be found at this [link](https://www.researchgate.net/publication/301543862_corr). \n",
    "I am greatful to the authors for sharing data."
   ]
  },
  {
   "cell_type": "markdown",
   "metadata": {},
   "source": [
    "# 2. $\\beta$-Hairpin peptide"
   ]
  },
  {
   "cell_type": "markdown",
   "metadata": {},
   "source": [
    "As a possible application of these topological methods I chose to take a small peptide, a 16 residue C-terminal fragment of the immunoglobulin binding domain B1 of the Streptococcus protein G (PDB code [1PGB](https://www.rcsb.org/structure/1PGB), mino acids sequence Ace-GEWTYDDATKTFTVTE-Nme).\n",
    "This peptide, whereas small, it is often used as a benchmark, due to its variety of secondary structures that can assume.\n",
    "Secondary structures in proteins are an example of how molecular motifs can behave as building blocks of more complex *supra*-molecular structures; the MBP is of course an example of this."
   ]
  },
  {
   "cell_type": "markdown",
   "metadata": {},
   "source": [
    "*Descrizione da finire*"
   ]
  },
  {
   "cell_type": "markdown",
   "metadata": {},
   "source": [
    "reference paper for the traj [Gasparotto2018](https://pubs.acs.org/doi/abs/10.1021/acs.jctc.7b00993)"
   ]
  },
  {
   "cell_type": "code",
   "execution_count": null,
   "metadata": {},
   "outputs": [],
   "source": []
  }
 ],
 "metadata": {
  "kernelspec": {
   "display_name": "Python 3",
   "language": "python",
   "name": "python3"
  },
  "language_info": {
   "codemirror_mode": {
    "name": "ipython",
    "version": 3
   },
   "file_extension": ".py",
   "mimetype": "text/x-python",
   "name": "python",
   "nbconvert_exporter": "python",
   "pygments_lexer": "ipython3",
   "version": "3.8.3"
  }
 },
 "nbformat": 4,
 "nbformat_minor": 4
}
