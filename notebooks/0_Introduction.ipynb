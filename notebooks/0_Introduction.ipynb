{
 "cells": [
  {
   "cell_type": "markdown",
   "metadata": {},
   "source": [
    "# Topological data analysis project"
   ]
  },
  {
   "cell_type": "markdown",
   "metadata": {},
   "source": [
    "Series of notebooks on my little project in Topological data analysis.\n",
    "\n",
    "#### _Author_ :  Andrea Gardin"
   ]
  },
  {
   "cell_type": "markdown",
   "metadata": {},
   "source": [
    "# Acknowledgment"
   ]
  },
  {
   "cell_type": "markdown",
   "metadata": {},
   "source": [
    "TopData was an interesting class I had the pleasure to attend during my PhD at Politecnico di Torino.\n",
    "I would like to thank professor Francesco Vaccarino and Dr. Ulderico Fugacci for helding the course."
   ]
  },
  {
   "cell_type": "markdown",
   "metadata": {},
   "source": [
    "# Outline"
   ]
  },
  {
   "cell_type": "markdown",
   "metadata": {},
   "source": [
    "The project is centered around the idea presented in the paper [Kovacev-Nikolic2015](https://arxiv.org/abs/1412.1394), which I chose to expose as final examination of the course.\n",
    "Moreover, I then try to apply similar techniques to possibly employ the topological invarian _homology_ as a molecular descriptor."
   ]
  },
  {
   "cell_type": "markdown",
   "metadata": {},
   "source": [
    "Notebooks should function without the need of writing any code, but still require some specific libraries to be install.\n",
    "The organization is as follows:\n",
    "\n",
    "1. `Systems` briefly explains the systems discussed, the datasets used and the motivation behind the use of such tecnhiques.\n",
    "\n",
    "2. `TopologyTutorial` gives a very quick and not formal introduction to the Topological Data Analysis workflow.\n",
    "\n",
    "3. `HomologyAndProteinBinding` presents the work made by Kovacev-Nikolic _et al._ \n",
    "\n",
    "4. `HomologyAndMolecularDescriptors` shows a possible application of _homology_ along some molecular descriptors to gather information on molecular structures."
   ]
  },
  {
   "cell_type": "code",
   "execution_count": null,
   "metadata": {},
   "outputs": [],
   "source": []
  }
 ],
 "metadata": {
  "kernelspec": {
   "display_name": "Python 3",
   "language": "python",
   "name": "python3"
  },
  "language_info": {
   "codemirror_mode": {
    "name": "ipython",
    "version": 3
   },
   "file_extension": ".py",
   "mimetype": "text/x-python",
   "name": "python",
   "nbconvert_exporter": "python",
   "pygments_lexer": "ipython3",
   "version": "3.8.3"
  }
 },
 "nbformat": 4,
 "nbformat_minor": 4
}
